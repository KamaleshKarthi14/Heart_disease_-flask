{
 "cells": [
  {
   "cell_type": "markdown",
   "metadata": {},
   "source": [
    " # Importing some libraries"
   ]
  },
  {
   "cell_type": "code",
   "execution_count": 1,
   "metadata": {},
   "outputs": [],
   "source": [
    "import numpy as np\n",
    "import pandas as pd\n",
    "import matplotlib.pyplot as plt"
   ]
  },
  {
   "cell_type": "code",
   "execution_count": 2,
   "metadata": {},
   "outputs": [],
   "source": [
    "def warn(*args, **kwargs):\n",
    "       pass\n"
   ]
  },
  {
   "cell_type": "code",
   "execution_count": 3,
   "metadata": {},
   "outputs": [],
   "source": [
    "import warnings\n",
    "warnings.warn = warn\n",
    "np.warnings.filterwarnings('ignore')"
   ]
  },
  {
   "cell_type": "code",
   "execution_count": 4,
   "metadata": {},
   "outputs": [],
   "source": [
    "column_names = [\n",
    "            \"age\",  #1\n",
    "            \"sex\",  #2\n",
    "            \"cp\",  #3\n",
    "            \"trestbps\",  #4\n",
    "            \"chol\",  #5\n",
    "            \"fbs\",   #6\n",
    "            \"restecg\",  #7\n",
    "            \"thalach\",  #8\n",
    "            \"oldpeak\",  #10\n",
    "            \"target\"  #11\n",
    "        ]"
   ]
  },
  {
   "cell_type": "code",
   "execution_count": 5,
   "metadata": {},
   "outputs": [],
   "source": [
    "#Importing the dataset\n",
    "location = 'Heart.csv'\n",
    "dataset = pd.read_csv(location)\n",
    "X = dataset.iloc[:, [1, 2, 3, 4, 5, 6, 7, 8, 10]].values\n",
    "Y = dataset.iloc[:, 11].values"
   ]
  },
  {
   "cell_type": "code",
   "execution_count": 6,
   "metadata": {},
   "outputs": [],
   "source": [
    "for x,i in enumerate(Y):\n",
    "        if i>0:Y[x]=1"
   ]
  },
  {
   "cell_type": "code",
   "execution_count": 7,
   "metadata": {},
   "outputs": [
    {
     "name": "stderr",
     "output_type": "stream",
     "text": [
      "Using TensorFlow backend.\n"
     ]
    }
   ],
   "source": [
    "from sklearn.model_selection._split import train_test_split\n",
    "from imblearn.combine import SMOTEENN\n",
    "smote_enn = SMOTEENN()\n",
    "X_resampled, y_resampled = smote_enn.fit_sample(X, Y)\n",
    "X_train, X_test, Y_Train, Y_Test = train_test_split(X_resampled, y_resampled, test_size=0.25)"
   ]
  },
  {
   "cell_type": "markdown",
   "metadata": {},
   "source": [
    "# Using Pipline"
   ]
  },
  {
   "cell_type": "code",
   "execution_count": 8,
   "metadata": {},
   "outputs": [],
   "source": [
    "import sklearn.pipeline\n",
    "from sklearn.neural_network import MLPClassifier\n",
    "from sklearn.decomposition import KernelPCA\n",
    "from imblearn.pipeline import make_pipeline"
   ]
  },
  {
   "cell_type": "code",
   "execution_count": 11,
   "metadata": {},
   "outputs": [],
   "source": [
    "#select = sklearn.model_selection.SelectPercentile(sklearn.feature_selection.f_classif)\n",
    "clf = MLPClassifier(solver='lbfgs', learning_rate='constant', activation='tanh')\n",
    "kernel = KernelPCA()"
   ]
  },
  {
   "cell_type": "code",
   "execution_count": 12,
   "metadata": {},
   "outputs": [
    {
     "data": {
      "text/plain": [
       "Pipeline(memory=None,\n",
       "         steps=[('kernelpca',\n",
       "                 KernelPCA(alpha=1.0, coef0=1, copy_X=True, degree=3,\n",
       "                           eigen_solver='auto', fit_inverse_transform=False,\n",
       "                           gamma=None, kernel='linear', kernel_params=None,\n",
       "                           max_iter=None, n_components=None, n_jobs=None,\n",
       "                           random_state=None, remove_zero_eig=False, tol=0)),\n",
       "                ('mlpclassifier',\n",
       "                 MLPClassifier(activation='tanh', alpha=0.0001,\n",
       "                               batch_size='auto', beta_1=0.9, beta_2=0.999,\n",
       "                               early_stopping=False, epsilon=1e-08,\n",
       "                               hidden_layer_sizes=(100,),\n",
       "                               learning_rate='constant',\n",
       "                               learning_rate_init=0.001, max_iter=200,\n",
       "                               momentum=0.9, n_iter_no_change=10,\n",
       "                               nesterovs_momentum=True, power_t=0.5,\n",
       "                               random_state=None, shuffle=True, solver='lbfgs',\n",
       "                               tol=0.0001, validation_fraction=0.1,\n",
       "                               verbose=False, warm_start=False))],\n",
       "         verbose=False)"
      ]
     },
     "execution_count": 12,
     "metadata": {},
     "output_type": "execute_result"
    }
   ],
   "source": [
    "pipeline = make_pipeline(kernel, clf)\n",
    "pipeline.fit(X_train, Y_Train)"
   ]
  },
  {
   "cell_type": "code",
   "execution_count": 14,
   "metadata": {},
   "outputs": [
    {
     "name": "stdout",
     "output_type": "stream",
     "text": [
      "              precision    recall  f1-score   support\n",
      "\n",
      "           0       1.00      0.90      0.95        10\n",
      "           1       0.92      1.00      0.96        12\n",
      "\n",
      "    accuracy                           0.95        22\n",
      "   macro avg       0.96      0.95      0.95        22\n",
      "weighted avg       0.96      0.95      0.95        22\n",
      "\n"
     ]
    }
   ],
   "source": [
    "#Testing\n",
    "from sklearn import metrics\n",
    "from sklearn.metrics import classification_report\n",
    "y_pred = pipeline.predict(X_test)\n",
    "report = metrics.classification_report(Y_Test, y_pred)\n",
    "print (report) "
   ]
  },
  {
   "cell_type": "code",
   "execution_count": 25,
   "metadata": {},
   "outputs": [
    {
     "data": {
      "text/plain": [
       "array([[  0,   2, 130, 263,   0,   1,  97,   0,   1],\n",
       "       [  0,   0, 151, 215,   0,   0, 135,   0,   1],\n",
       "       [  1,   0, 128, 263,   0,   1, 105,   1,   1],\n",
       "       [  1,   1, 134, 201,   0,   1, 158,   0,   2],\n",
       "       [  1,   0, 131, 255,   0,   0, 149,   0,   1],\n",
       "       [  1,   3, 110, 211,   0,   0, 144,   1,   1],\n",
       "       [  1,   2, 120, 240,   1,   1, 194,   0,   0],\n",
       "       [  0,   2, 140, 417,   1,   0, 157,   0,   2],\n",
       "       [  1,   1, 130, 204,   0,   0, 202,   0,   2],\n",
       "       [  1,   3, 134, 204,   0,   1, 162,   0,   2],\n",
       "       [  0,   1, 136, 319,   1,   0, 152,   0,   2],\n",
       "       [  1,   0, 140, 298,   0,   1, 122,   1,   1],\n",
       "       [  0,   0, 120, 354,   0,   1, 163,   1,   2],\n",
       "       [  1,   0, 144, 193,   1,   1, 141,   0,   1],\n",
       "       [  1,   0, 140, 261,   0,   0, 186,   1,   2],\n",
       "       [  0,   0, 130, 269,   0,   1, 163,   0,   2],\n",
       "       [  0,   2, 120, 340,   0,   1, 172,   0,   2],\n",
       "       [  1,   0, 124, 274,   0,   0, 166,   0,   1],\n",
       "       [  0,   1, 132, 342,   0,   1, 166,   0,   2],\n",
       "       [  1,   0, 143, 194,   0,   0, 140,   0,   1],\n",
       "       [  0,   2, 120, 219,   0,   1, 158,   0,   1],\n",
       "       [  1,   0, 120, 267,   0,   1,  99,   1,   1]], dtype=int64)"
      ]
     },
     "execution_count": 25,
     "metadata": {},
     "output_type": "execute_result"
    }
   ],
   "source": [
    "X_test"
   ]
  },
  {
   "cell_type": "code",
   "execution_count": 26,
   "metadata": {},
   "outputs": [
    {
     "data": {
      "text/plain": [
       "array([1, 1, 1, 1, 1, 0, 0, 1, 0, 1, 1, 1, 0, 1, 0, 0, 0, 0, 0, 1, 0, 1],\n",
       "      dtype=int64)"
      ]
     },
     "execution_count": 26,
     "metadata": {},
     "output_type": "execute_result"
    }
   ],
   "source": [
    "Y_Test"
   ]
  },
  {
   "cell_type": "markdown",
   "metadata": {},
   "source": [
    "# User-input"
   ]
  },
  {
   "cell_type": "code",
   "execution_count": null,
   "metadata": {},
   "outputs": [],
   "source": [
    "#v = []\n",
    "#for i in column_names[:-1]:\n",
    " #   v.append(input(i+\": \"))\n",
    "#    answer = np.array(v)\n",
    "#    answer = answer.reshape(1,-1)\n",
    "#    answer = sc_X.transform(answer)\n",
    "    \n",
    "#    print \"Predicts: \" + str(pipeline.predict(answer))\n",
    "    #If prediction == 0, then the person doesn't have heart-disease\n",
    "    #else prediction == 1, then person has heart-disease\n",
    "\n"
   ]
  },
  {
   "cell_type": "code",
   "execution_count": null,
   "metadata": {},
   "outputs": [],
   "source": []
  }
 ],
 "metadata": {
  "kernelspec": {
   "display_name": "Python 3",
   "language": "python",
   "name": "python3"
  },
  "language_info": {
   "codemirror_mode": {
    "name": "ipython",
    "version": 3
   },
   "file_extension": ".py",
   "mimetype": "text/x-python",
   "name": "python",
   "nbconvert_exporter": "python",
   "pygments_lexer": "ipython3",
   "version": "3.6.8"
  }
 },
 "nbformat": 4,
 "nbformat_minor": 2
}
